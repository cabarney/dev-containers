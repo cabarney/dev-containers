{
 "cells": [
  {
   "cell_type": "code",
   "execution_count": null,
   "id": "e4376477-9131-40e7-846a-03de45e203c7",
   "metadata": {},
   "outputs": [],
   "source": [
    "import cfbd\n",
    "import numpy as np\n",
    "import pandas as pd\n",
    "import os"
   ]
  },
  {
   "cell_type": "code",
   "execution_count": null,
   "id": "8dcb00ad-78c8-40c0-b07d-0b4c10462861",
   "metadata": {},
   "outputs": [],
   "source": [
    "config = cfbd.Configuration()\n",
    "config.api_key['Authorization'] = os.environ.get('CFBD_API_KEY')\n",
    "config.api_key_prefix['Authorization'] = 'Bearer'\n",
    "api_config = cfbd.ApiClient(config)"
   ]
  },
  {
   "cell_type": "code",
   "execution_count": null,
   "id": "5b44eee8-5b71-4ef6-8fda-720da99170da",
   "metadata": {
    "tags": []
   },
   "outputs": [],
   "source": [
    "teams_api = cfbd.TeamsApi(api_config)\n",
    "teams_api.get_fbs_teams()"
   ]
  },
  {
   "cell_type": "code",
   "execution_count": null,
   "id": "59607511-3fe5-4d4d-b69d-52c5b21b83a2",
   "metadata": {},
   "outputs": [],
   "source": [
    "games_api = cfbd.GamesApi(api_config)\n",
    "games = games_api.get_games(year=2022)\n",
    "[game for game in games if game.home_team == \"Nebraska\" or game.away_team == \"Nebraska\"]"
   ]
  },
  {
   "cell_type": "code",
   "execution_count": null,
   "id": "3576f843-d261-4f0a-9be3-b14e2ed0eaca",
   "metadata": {},
   "outputs": [],
   "source": [
    "df = pd.DataFrame.from_records([dict(home_team=g.home_team, home_points=g.home_points, away_team=g.away_team, away_points=g.away_points) for g in games])\n",
    "df.head()"
   ]
  },
  {
   "cell_type": "code",
   "execution_count": null,
   "id": "976c0a30-fbb1-4752-8579-65538f156812",
   "metadata": {},
   "outputs": [],
   "source": [
    "import matplotlib.pyplot as plt\n",
    "\n",
    "plt.style.use('fivethirtyeight')\n",
    "plt.rcParams[\"figure.figsize\"] = [10, 10]\n",
    "\n",
    "plt.scatter(df['home_points'], df['away_points'])\n",
    "plt.xlabel('home points')\n",
    "plt.ylabel('away points')"
   ]
  }
 ],
 "metadata": {
  "kernelspec": {
   "display_name": "Python 3.9.12 ('base')",
   "language": "python",
   "name": "python3"
  },
  "language_info": {
   "codemirror_mode": {
    "name": "ipython",
    "version": 3
   },
   "file_extension": ".py",
   "mimetype": "text/x-python",
   "name": "python",
   "nbconvert_exporter": "python",
   "pygments_lexer": "ipython3",
   "version": "3.9.12"
  },
  "vscode": {
   "interpreter": {
    "hash": "d4d1e4263499bec80672ea0156c357c1ee493ec2b1c70f0acce89fc37c4a6abe"
   }
  }
 },
 "nbformat": 4,
 "nbformat_minor": 5
}
